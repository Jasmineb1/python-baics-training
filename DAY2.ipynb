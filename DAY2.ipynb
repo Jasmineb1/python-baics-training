{
 "cells": [
  {
   "cell_type": "code",
   "execution_count": 1,
   "id": "fd6984dc",
   "metadata": {},
   "outputs": [],
   "source": [
    "GRAVITY= 9.8 #constant"
   ]
  },
  {
   "cell_type": "code",
   "execution_count": 2,
   "id": "2a4f73ef",
   "metadata": {},
   "outputs": [],
   "source": [
    "PI=3.14 #constant"
   ]
  },
  {
   "cell_type": "code",
   "execution_count": 3,
   "id": "46122bdf",
   "metadata": {},
   "outputs": [],
   "source": [
    "temperature=17"
   ]
  },
  {
   "cell_type": "code",
   "execution_count": 4,
   "id": "e4f2e500",
   "metadata": {},
   "outputs": [
    {
     "name": "stdout",
     "output_type": "stream",
     "text": [
      "17\n"
     ]
    }
   ],
   "source": [
    "print(temperature)"
   ]
  },
  {
   "cell_type": "code",
   "execution_count": 5,
   "id": "e361058b",
   "metadata": {},
   "outputs": [],
   "source": [
    "GRAVITY_OF_EARTH= 9.8\n",
    "GAVITY_OF_MOON=1.62"
   ]
  },
  {
   "cell_type": "code",
   "execution_count": 9,
   "id": "5229d78c",
   "metadata": {},
   "outputs": [
    {
     "name": "stdout",
     "output_type": "stream",
     "text": [
      "21 100 258 1250\n"
     ]
    }
   ],
   "source": [
    "a=0b10101 #binary number\n",
    "b=100 #decimal literal\n",
    "c=0x0102 #hexadecimal literal\n",
    "d=0o2342 #octal literal\n",
    "print(a,b,c,d)"
   ]
  },
  {
   "cell_type": "code",
   "execution_count": 10,
   "id": "387d63d1",
   "metadata": {},
   "outputs": [
    {
     "name": "stdout",
     "output_type": "stream",
     "text": [
      "150.0\n"
     ]
    }
   ],
   "source": [
    "#float literal\n",
    "float_1= 10.5\n",
    "float_2= 1.5e2 #1.5*10^2\n",
    "print(float_2)"
   ]
  },
  {
   "cell_type": "code",
   "execution_count": 12,
   "id": "6d2d8395",
   "metadata": {},
   "outputs": [
    {
     "name": "stdout",
     "output_type": "stream",
     "text": [
      "this is a string\n",
      "c\n",
      "this is a multiline string\n",
      "Þnicöde\n",
      "\\raw \\n string\n"
     ]
    }
   ],
   "source": [
    "strings=\"this is a string\"\n",
    "char='c'\n",
    "multiline_String=\"\"\"this is a multiline string\"\"\"\n",
    "unicode=u\"\\u00denic\\u00f6de\" #\\and then  characters\n",
    "raw_str= r\"\\raw \\n string\"\n",
    "\n",
    "hello='hello'\n",
    "hello=\"hello\"\n",
    "hello=\"\"\"hello\"\"\"\n",
    "hello='''hello'''\n",
    "print(strings)\n",
    "print(char)\n",
    "print(multiline_String)\n",
    "print(unicode)\n",
    "print(raw_str)\n"
   ]
  },
  {
   "cell_type": "code",
   "execution_count": 13,
   "id": "c292f9bd",
   "metadata": {},
   "outputs": [],
   "source": [
    "a='Hello world \\n welcome to python course'"
   ]
  },
  {
   "cell_type": "code",
   "execution_count": 14,
   "id": "8aa92063",
   "metadata": {},
   "outputs": [
    {
     "name": "stdout",
     "output_type": "stream",
     "text": [
      "Hello world \n",
      " welcome to python course\n"
     ]
    }
   ],
   "source": [
    "print(a)"
   ]
  },
  {
   "cell_type": "code",
   "execution_count": 15,
   "id": "a48c0667",
   "metadata": {},
   "outputs": [
    {
     "name": "stdout",
     "output_type": "stream",
     "text": [
      "Hello world \t welcome to python course\n"
     ]
    }
   ],
   "source": [
    "a='Hello world \\t welcome to python course'\n",
    "print(a)"
   ]
  },
  {
   "cell_type": "code",
   "execution_count": 16,
   "id": "d2b27cdf",
   "metadata": {},
   "outputs": [
    {
     "name": "stdout",
     "output_type": "stream",
     "text": [
      "Hello world \\t welcome to python course\n"
     ]
    }
   ],
   "source": [
    "a=r'Hello world \\t welcome to python course'\n",
    "print(a)"
   ]
  },
  {
   "cell_type": "code",
   "execution_count": 17,
   "id": "0d028f5a",
   "metadata": {},
   "outputs": [
    {
     "name": "stdout",
     "output_type": "stream",
     "text": [
      "True False\n"
     ]
    }
   ],
   "source": [
    "x=True\n",
    "y=False\n",
    "print(x,y)"
   ]
  },
  {
   "cell_type": "code",
   "execution_count": 18,
   "id": "c2d1cd69",
   "metadata": {},
   "outputs": [
    {
     "name": "stdout",
     "output_type": "stream",
     "text": [
      "None\n"
     ]
    }
   ],
   "source": [
    "x=None #special literal\n",
    "print(x)"
   ]
  },
  {
   "cell_type": "code",
   "execution_count": 20,
   "id": "4fe17616",
   "metadata": {},
   "outputs": [
    {
     "name": "stdout",
     "output_type": "stream",
     "text": [
      "['apple', 'orange', 'mango']\n",
      "(1, 2, 3)\n",
      "{'u', 'o', 'a', 'i', 'e'}\n"
     ]
    }
   ],
   "source": [
    "fruits=[\"apple\",\"orange\",\"mango\"] #list\n",
    "numbers=(1,2,3) #tuple\n",
    "vowels={'a','e','i','o','u'} #set\n",
    "\n",
    "print(fruits)\n",
    "print(numbers)\n",
    "print(vowels)"
   ]
  },
  {
   "cell_type": "code",
   "execution_count": 23,
   "id": "5bd7f5aa",
   "metadata": {},
   "outputs": [
    {
     "name": "stdout",
     "output_type": "stream",
     "text": [
      "{'name': 'ram', 'address': 'ktm', 'age': 17}\n"
     ]
    }
   ],
   "source": [
    "person ={\n",
    "    'name':\"ram\",\n",
    "    'address':'ktm',\n",
    "    'age': 17\n",
    "    \n",
    "}\n",
    "print(person)"
   ]
  },
  {
   "cell_type": "code",
   "execution_count": 25,
   "id": "ffb5ee60",
   "metadata": {},
   "outputs": [
    {
     "name": "stdout",
     "output_type": "stream",
     "text": [
      "0.0123456789\n"
     ]
    }
   ],
   "source": [
    "b=0.0123456789 #17 digits after point\n",
    "print(b)"
   ]
  },
  {
   "cell_type": "code",
   "execution_count": 26,
   "id": "5120d532",
   "metadata": {},
   "outputs": [
    {
     "data": {
      "text/plain": [
       "5.0"
      ]
     },
     "execution_count": 26,
     "metadata": {},
     "output_type": "execute_result"
    }
   ],
   "source": [
    "#conversion\n",
    "float(5)#type conversion"
   ]
  },
  {
   "cell_type": "code",
   "execution_count": 27,
   "id": "fdb5b9fe",
   "metadata": {},
   "outputs": [
    {
     "data": {
      "text/plain": [
       "5"
      ]
     },
     "execution_count": 27,
     "metadata": {},
     "output_type": "execute_result"
    }
   ],
   "source": [
    "int(5.5)"
   ]
  },
  {
   "cell_type": "code",
   "execution_count": 28,
   "id": "14a47c76",
   "metadata": {},
   "outputs": [
    {
     "data": {
      "text/plain": [
       "2.4"
      ]
     },
     "execution_count": 28,
     "metadata": {},
     "output_type": "execute_result"
    }
   ],
   "source": [
    "float(\"2.4\")"
   ]
  },
  {
   "cell_type": "code",
   "execution_count": 29,
   "id": "73e6d25a",
   "metadata": {},
   "outputs": [
    {
     "ename": "ValueError",
     "evalue": "could not convert string to float: '2p'",
     "output_type": "error",
     "traceback": [
      "\u001b[1;31m---------------------------------------------------------------------------\u001b[0m",
      "\u001b[1;31mValueError\u001b[0m                                Traceback (most recent call last)",
      "Cell \u001b[1;32mIn[29], line 1\u001b[0m\n\u001b[1;32m----> 1\u001b[0m \u001b[38;5;28;43mfloat\u001b[39;49m\u001b[43m(\u001b[49m\u001b[38;5;124;43m'\u001b[39;49m\u001b[38;5;124;43m2p\u001b[39;49m\u001b[38;5;124;43m'\u001b[39;49m\u001b[43m)\u001b[49m \u001b[38;5;66;03m#throws an error\u001b[39;00m\n",
      "\u001b[1;31mValueError\u001b[0m: could not convert string to float: '2p'"
     ]
    }
   ],
   "source": [
    "float('2p') #throws an error"
   ]
  },
  {
   "cell_type": "code",
   "execution_count": null,
   "id": "b6742a83",
   "metadata": {},
   "outputs": [],
   "source": []
  }
 ],
 "metadata": {
  "kernelspec": {
   "display_name": "Python 3 (ipykernel)",
   "language": "python",
   "name": "python3"
  },
  "language_info": {
   "codemirror_mode": {
    "name": "ipython",
    "version": 3
   },
   "file_extension": ".py",
   "mimetype": "text/x-python",
   "name": "python",
   "nbconvert_exporter": "python",
   "pygments_lexer": "ipython3",
   "version": "3.9.0"
  }
 },
 "nbformat": 4,
 "nbformat_minor": 5
}

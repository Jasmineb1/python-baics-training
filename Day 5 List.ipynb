{
 "cells": [
  {
   "cell_type": "markdown",
   "id": "f023f198",
   "metadata": {},
   "source": [
    "# List"
   ]
  },
  {
   "cell_type": "code",
   "execution_count": 3,
   "id": "3a09fe6d",
   "metadata": {},
   "outputs": [
    {
     "name": "stdout",
     "output_type": "stream",
     "text": [
      "['banana', 'mango']\n"
     ]
    }
   ],
   "source": [
    "#lists\n",
    "fruits=['apple','banana','mango','orange']\n",
    "print(fruits[1:3:1])"
   ]
  },
  {
   "cell_type": "code",
   "execution_count": 7,
   "id": "27b8ece2",
   "metadata": {},
   "outputs": [
    {
     "name": "stdout",
     "output_type": "stream",
     "text": [
      "['orange', 'mango', 'banana', 'apple']\n"
     ]
    }
   ],
   "source": [
    "#lists\n",
    "fruits=['apple','banana','mango','orange']\n",
    "print(fruits[-1::-1])"
   ]
  },
  {
   "cell_type": "code",
   "execution_count": 10,
   "id": "936e1827",
   "metadata": {},
   "outputs": [
    {
     "name": "stdout",
     "output_type": "stream",
     "text": [
      "['pineapple', 'banana', 'mango', 'orange']\n"
     ]
    }
   ],
   "source": [
    "fruits[0]=\"pineapple\" #replacing\n",
    "print(fruits)"
   ]
  },
  {
   "cell_type": "code",
   "execution_count": 13,
   "id": "dd9e76f4",
   "metadata": {},
   "outputs": [
    {
     "name": "stdout",
     "output_type": "stream",
     "text": [
      "['pineapple', 'banana', 'Grapes', 'orange', 'grapes', 'grapes']\n"
     ]
    }
   ],
   "source": [
    "fruits.append(\"grapes\") #append operation\n",
    "print(fruits)"
   ]
  },
  {
   "cell_type": "code",
   "execution_count": 18,
   "id": "ee06595c",
   "metadata": {},
   "outputs": [
    {
     "name": "stdout",
     "output_type": "stream",
     "text": [
      "[1, 1.3, 'hello', [1, 2, 3], 'tup', {1, 2, 3}, {'name': 'ram'}] <class 'list'>\n"
     ]
    }
   ],
   "source": [
    "x=[1, 1.3, 'hello', [1,2,3], ('tup'), {1,2,3}, {'name':'ram'}]\n",
    "print(x, type(x)) #any type of data can be stored in a list"
   ]
  },
  {
   "cell_type": "code",
   "execution_count": 19,
   "id": "c261940c",
   "metadata": {},
   "outputs": [
    {
     "name": "stdout",
     "output_type": "stream",
     "text": [
      "[4, 5, 6, 7, 8]\n"
     ]
    }
   ],
   "source": [
    "x=[1,2,3,4,5,6,7,8,9]\n",
    "print(x[3:8])"
   ]
  },
  {
   "cell_type": "code",
   "execution_count": 21,
   "id": "7ddbfc4e",
   "metadata": {},
   "outputs": [
    {
     "name": "stdout",
     "output_type": "stream",
     "text": [
      "[4, 5, 6, 7, 8]\n"
     ]
    }
   ],
   "source": [
    "#list in a list\n",
    "x=[1,2,[3,4,5,6,7,8],9] #nested list\n",
    "print(x[2][1:6])"
   ]
  },
  {
   "cell_type": "code",
   "execution_count": 25,
   "id": "553bd267",
   "metadata": {},
   "outputs": [
    {
     "name": "stdout",
     "output_type": "stream",
     "text": [
      "[4, 5, 6, 7]\n"
     ]
    }
   ],
   "source": [
    "x=[1,2,[[3,4,5,6,7,8]],9] #nested list\n",
    "print(x[2][0][1:5])"
   ]
  },
  {
   "cell_type": "code",
   "execution_count": 30,
   "id": "1a3f4f82",
   "metadata": {},
   "outputs": [
    {
     "name": "stdout",
     "output_type": "stream",
     "text": [
      "[5, 6, 7, 8]\n"
     ]
    }
   ],
   "source": [
    "#nesting\n",
    "x=[1,2,[[3,[4,5,6,7,8]]],9]\n",
    "#print(x[2][0][1][1:6])"
   ]
  },
  {
   "cell_type": "code",
   "execution_count": 32,
   "id": "d57e6f10",
   "metadata": {},
   "outputs": [
    {
     "data": {
      "text/plain": [
       "['a', 'b', 'c', 'p', 'q', 'r']"
      ]
     },
     "execution_count": 32,
     "metadata": {},
     "output_type": "execute_result"
    }
   ],
   "source": [
    "#concatenation of lists\n",
    "x=['a','b','c']\n",
    "y=['p','q','r']\n",
    "x+y"
   ]
  },
  {
   "cell_type": "code",
   "execution_count": 34,
   "id": "759b14eb",
   "metadata": {},
   "outputs": [
    {
     "ename": "TypeError",
     "evalue": "can't multiply sequence by non-int of type 'list'",
     "output_type": "error",
     "traceback": [
      "\u001b[1;31m---------------------------------------------------------------------------\u001b[0m",
      "\u001b[1;31mTypeError\u001b[0m                                 Traceback (most recent call last)",
      "Cell \u001b[1;32mIn[34], line 4\u001b[0m\n\u001b[0;32m      2\u001b[0m x\u001b[38;5;241m=\u001b[39m[\u001b[38;5;124m'\u001b[39m\u001b[38;5;124ma\u001b[39m\u001b[38;5;124m'\u001b[39m,\u001b[38;5;124m'\u001b[39m\u001b[38;5;124mb\u001b[39m\u001b[38;5;124m'\u001b[39m,\u001b[38;5;124m'\u001b[39m\u001b[38;5;124mc\u001b[39m\u001b[38;5;124m'\u001b[39m]\n\u001b[0;32m      3\u001b[0m y\u001b[38;5;241m=\u001b[39m[\u001b[38;5;124m'\u001b[39m\u001b[38;5;124mp\u001b[39m\u001b[38;5;124m'\u001b[39m,\u001b[38;5;124m'\u001b[39m\u001b[38;5;124mq\u001b[39m\u001b[38;5;124m'\u001b[39m,\u001b[38;5;124m'\u001b[39m\u001b[38;5;124mr\u001b[39m\u001b[38;5;124m'\u001b[39m]\n\u001b[1;32m----> 4\u001b[0m \u001b[43mx\u001b[49m\u001b[38;5;241;43m*\u001b[39;49m\u001b[43my\u001b[49m \u001b[38;5;66;03m#error as two lists cannot be multiplied in python\u001b[39;00m\n",
      "\u001b[1;31mTypeError\u001b[0m: can't multiply sequence by non-int of type 'list'"
     ]
    }
   ],
   "source": [
    "#concatenation of lists\n",
    "x=['a','b','c']\n",
    "y=['p','q','r']\n",
    "x*y #error as two lists cannot be multiplied in python"
   ]
  },
  {
   "cell_type": "code",
   "execution_count": 36,
   "id": "38351653",
   "metadata": {},
   "outputs": [
    {
     "name": "stdout",
     "output_type": "stream",
     "text": [
      "['a', 'b', 'c', 'a', 'b', 'c']\n"
     ]
    }
   ],
   "source": [
    "x=['a','b','c']*2 #replication/ repitition\n",
    "print(x)"
   ]
  },
  {
   "cell_type": "code",
   "execution_count": null,
   "id": "86a11a5c",
   "metadata": {},
   "outputs": [],
   "source": [
    "# x=['a','b','c']+2 #error\n",
    "print(x)"
   ]
  },
  {
   "cell_type": "code",
   "execution_count": 38,
   "id": "69bb210f",
   "metadata": {},
   "outputs": [
    {
     "name": "stdout",
     "output_type": "stream",
     "text": [
      "['apple', 'mango', 'orange']\n"
     ]
    }
   ],
   "source": [
    "fruits=['apple','mango','banana','orange']\n",
    "del fruits[2]\n",
    "print(fruits)"
   ]
  },
  {
   "cell_type": "code",
   "execution_count": 40,
   "id": "3751622f",
   "metadata": {},
   "outputs": [
    {
     "name": "stdout",
     "output_type": "stream",
     "text": [
      "[]\n"
     ]
    }
   ],
   "source": [
    "fruits=list() #an empty list declaration\n",
    "print(fruits)"
   ]
  },
  {
   "cell_type": "code",
   "execution_count": 41,
   "id": "3fb4883e",
   "metadata": {},
   "outputs": [
    {
     "name": "stdout",
     "output_type": "stream",
     "text": [
      "[]\n"
     ]
    }
   ],
   "source": [
    "fruits=['apple','banana','grapes']\n",
    "fruits.clear() #empty the set\n",
    "print(fruits)"
   ]
  },
  {
   "cell_type": "markdown",
   "id": "92f2e376",
   "metadata": {},
   "source": [
    "# Loops"
   ]
  },
  {
   "cell_type": "code",
   "execution_count": 42,
   "id": "ac33256d",
   "metadata": {},
   "outputs": [
    {
     "name": "stdout",
     "output_type": "stream",
     "text": [
      "apple\n",
      "banana\n",
      "mango\n"
     ]
    }
   ],
   "source": [
    "fruits=['apple','banana','mango']\n",
    "for fruit in fruits:\n",
    "    print(fruit)"
   ]
  },
  {
   "cell_type": "code",
   "execution_count": 44,
   "id": "35eb0091",
   "metadata": {},
   "outputs": [
    {
     "name": "stdout",
     "output_type": "stream",
     "text": [
      "['apple', 'banana', 'mango', 'orange', 'grapes']\n",
      "['apple', 'banana', 'mango', 'orange', 'grapes']\n",
      "2346038842752\n",
      "2346038842752\n"
     ]
    }
   ],
   "source": [
    "fruits1=['apple','banana','mango','orange']\n",
    "fruits2 =fruits1\n",
    "fruits2.append(\"grapes\")\n",
    "print(fruits1)\n",
    "print(fruits2)\n",
    "print(id(fruits1))\n",
    "print(id(fruits2))"
   ]
  },
  {
   "cell_type": "code",
   "execution_count": null,
   "id": "d8600a72",
   "metadata": {},
   "outputs": [],
   "source": []
  }
 ],
 "metadata": {
  "kernelspec": {
   "display_name": "Python 3 (ipykernel)",
   "language": "python",
   "name": "python3"
  },
  "language_info": {
   "codemirror_mode": {
    "name": "ipython",
    "version": 3
   },
   "file_extension": ".py",
   "mimetype": "text/x-python",
   "name": "python",
   "nbconvert_exporter": "python",
   "pygments_lexer": "ipython3",
   "version": "3.9.0"
  }
 },
 "nbformat": 4,
 "nbformat_minor": 5
}

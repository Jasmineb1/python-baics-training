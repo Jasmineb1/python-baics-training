{
 "cells": [
  {
   "cell_type": "code",
   "execution_count": 1,
   "id": "9c075c2b",
   "metadata": {},
   "outputs": [
    {
     "name": "stdout",
     "output_type": "stream",
     "text": [
      "7\n"
     ]
    }
   ],
   "source": [
    "x=5\n",
    "y=2\n",
    "sum=x+y\n",
    "print(sum)"
   ]
  },
  {
   "cell_type": "code",
   "execution_count": 2,
   "id": "1c7dfb0e",
   "metadata": {},
   "outputs": [
    {
     "name": "stdout",
     "output_type": "stream",
     "text": [
      "Enter the value of x5\n",
      "Enter the value of y10\n",
      "510\n"
     ]
    }
   ],
   "source": [
    "#the input from the user when added performs concatenation of the two number rather than the sum so to solve it, declare it as int\n",
    "x=input(\"Enter the value of x\")\n",
    "y=input(\"Enter the value of y\")\n",
    "sum=x+y #concatenation\n",
    "print(sum)"
   ]
  },
  {
   "cell_type": "code",
   "execution_count": 5,
   "id": "49e805e0",
   "metadata": {},
   "outputs": [
    {
     "name": "stdout",
     "output_type": "stream",
     "text": [
      "<class 'str'>\n",
      "rambahadur\n"
     ]
    }
   ],
   "source": [
    "\n",
    "first_name=\"ram\"\n",
    "last_name=\"bahadur\"\n",
    "full_name=first_name+last_name\n",
    "print(type(first_name))\n",
    "print(full_name)\n"
   ]
  },
  {
   "cell_type": "code",
   "execution_count": 8,
   "id": "fd5afbd5",
   "metadata": {},
   "outputs": [
    {
     "name": "stdout",
     "output_type": "stream",
     "text": [
      "Enter the value of x5\n",
      "Enter the value of y10\n",
      "15\n"
     ]
    }
   ],
   "source": [
    "#solution to concatenation problem\n",
    "x=int (input(\"Enter the value of x\"))\n",
    "y=int (input(\"Enter the value of y\"))\n",
    "sum=x+y #addition\n",
    "print(sum)\n"
   ]
  },
  {
   "cell_type": "code",
   "execution_count": 15,
   "id": "d8a3d3bc",
   "metadata": {},
   "outputs": [
    {
     "name": "stdout",
     "output_type": "stream",
     "text": [
      "Enter the principle 1000\n",
      "Enter the time 10\n",
      "Enter the rate 10\n",
      "The simple interest of principle 1000 in time 10 at rate 10 is: 1000.0\n",
      "The simple interest of principle 1000 in time 10 at rate 10 is: 1000.0\n"
     ]
    }
   ],
   "source": [
    "#calculate the simple interest\n",
    "p= int(input(\"Enter the principle \"))\n",
    "t= int(input(\"Enter the time \"))\n",
    "r= int(input(\"Enter the rate \"))\n",
    "si=(p*t*r)/100\n",
    "#string interpolation => f-string\n",
    "print(f\"The simple interest of principle {p} in time {t} at rate {r} is:\",si)\n",
    "#using format\n",
    "print(\"The simple interest of principle {} in time {} at rate {} is: {}\".format(p,t,r,si))"
   ]
  },
  {
   "cell_type": "markdown",
   "id": "f935f42f",
   "metadata": {},
   "source": [
    "# Operators"
   ]
  },
  {
   "cell_type": "code",
   "execution_count": 16,
   "id": "313cb8c8",
   "metadata": {},
   "outputs": [
    {
     "data": {
      "text/plain": [
       "1"
      ]
     },
     "execution_count": 16,
     "metadata": {},
     "output_type": "execute_result"
    }
   ],
   "source": [
    "10% 3 #modulo disivision"
   ]
  },
  {
   "cell_type": "code",
   "execution_count": 17,
   "id": "f5ae6251",
   "metadata": {},
   "outputs": [
    {
     "data": {
      "text/plain": [
       "32"
      ]
     },
     "execution_count": 17,
     "metadata": {},
     "output_type": "execute_result"
    }
   ],
   "source": [
    "2**5 #power operator\n"
   ]
  },
  {
   "cell_type": "code",
   "execution_count": 20,
   "id": "09f653ca",
   "metadata": {},
   "outputs": [
    {
     "data": {
      "text/plain": [
       "2"
      ]
     },
     "execution_count": 20,
     "metadata": {},
     "output_type": "execute_result"
    }
   ],
   "source": [
    "5//2 #integer division/floor division"
   ]
  },
  {
   "cell_type": "code",
   "execution_count": 19,
   "id": "33dc7cef",
   "metadata": {},
   "outputs": [
    {
     "data": {
      "text/plain": [
       "2.5"
      ]
     },
     "execution_count": 19,
     "metadata": {},
     "output_type": "execute_result"
    }
   ],
   "source": [
    "5/2 #division"
   ]
  },
  {
   "cell_type": "code",
   "execution_count": 22,
   "id": "e78432ef",
   "metadata": {},
   "outputs": [
    {
     "data": {
      "text/plain": [
       "False"
      ]
     },
     "execution_count": 22,
     "metadata": {},
     "output_type": "execute_result"
    }
   ],
   "source": [
    "#comparison operator\n",
    "x=5\n",
    "y=4\n",
    "x>y #greater\n",
    "x<y #less\n",
    "x==y #equal"
   ]
  },
  {
   "cell_type": "code",
   "execution_count": 23,
   "id": "d502d298",
   "metadata": {},
   "outputs": [
    {
     "data": {
      "text/plain": [
       "False"
      ]
     },
     "execution_count": 23,
     "metadata": {},
     "output_type": "execute_result"
    }
   ],
   "source": [
    "x<=y #less than or equal to"
   ]
  },
  {
   "cell_type": "code",
   "execution_count": 24,
   "id": "07fce826",
   "metadata": {},
   "outputs": [
    {
     "data": {
      "text/plain": [
       "True"
      ]
     },
     "execution_count": 24,
     "metadata": {},
     "output_type": "execute_result"
    }
   ],
   "source": [
    "x!=y #xnot equal to"
   ]
  },
  {
   "cell_type": "code",
   "execution_count": 25,
   "id": "8733a84e",
   "metadata": {},
   "outputs": [
    {
     "data": {
      "text/plain": [
       "True"
      ]
     },
     "execution_count": 25,
     "metadata": {},
     "output_type": "execute_result"
    }
   ],
   "source": [
    "x>=y #greater than or equal to"
   ]
  },
  {
   "cell_type": "code",
   "execution_count": 26,
   "id": "5c831574",
   "metadata": {},
   "outputs": [
    {
     "data": {
      "text/plain": [
       "5"
      ]
     },
     "execution_count": 26,
     "metadata": {},
     "output_type": "execute_result"
    }
   ],
   "source": [
    "#length of character\n",
    "len(\"apple\")"
   ]
  },
  {
   "cell_type": "code",
   "execution_count": 28,
   "id": "6eba02e4",
   "metadata": {},
   "outputs": [
    {
     "data": {
      "text/plain": [
       "True"
      ]
     },
     "execution_count": 28,
     "metadata": {},
     "output_type": "execute_result"
    }
   ],
   "source": [
    "#logical operators and, or, not\n",
    "#and => allvalues true then true\n",
    "True and True and True"
   ]
  },
  {
   "cell_type": "markdown",
   "id": "ee268078",
   "metadata": {},
   "source": [
    "# Logical Operators"
   ]
  },
  {
   "cell_type": "code",
   "execution_count": 29,
   "id": "8e03b48a",
   "metadata": {},
   "outputs": [
    {
     "data": {
      "text/plain": [
       "False"
      ]
     },
     "execution_count": 29,
     "metadata": {},
     "output_type": "execute_result"
    }
   ],
   "source": [
    "#logical operators and, or, not\n",
    "#and => allvalues true then true\n",
    "True and True and False"
   ]
  },
  {
   "cell_type": "code",
   "execution_count": 30,
   "id": "6dcbca5b",
   "metadata": {},
   "outputs": [
    {
     "data": {
      "text/plain": [
       "True"
      ]
     },
     "execution_count": 30,
     "metadata": {},
     "output_type": "execute_result"
    }
   ],
   "source": [
    "#or any one value true=>true\n",
    "True or True or True"
   ]
  },
  {
   "cell_type": "code",
   "execution_count": 32,
   "id": "32a308aa",
   "metadata": {},
   "outputs": [
    {
     "data": {
      "text/plain": [
       "True"
      ]
     },
     "execution_count": 32,
     "metadata": {},
     "output_type": "execute_result"
    }
   ],
   "source": [
    "True or False"
   ]
  },
  {
   "cell_type": "code",
   "execution_count": 33,
   "id": "15be0a30",
   "metadata": {},
   "outputs": [
    {
     "data": {
      "text/plain": [
       "False"
      ]
     },
     "execution_count": 33,
     "metadata": {},
     "output_type": "execute_result"
    }
   ],
   "source": [
    "False or False"
   ]
  },
  {
   "cell_type": "code",
   "execution_count": 34,
   "id": "5f49787e",
   "metadata": {},
   "outputs": [
    {
     "data": {
      "text/plain": [
       "False"
      ]
     },
     "execution_count": 34,
     "metadata": {},
     "output_type": "execute_result"
    }
   ],
   "source": [
    "#not if true => false\n",
    "not True\n"
   ]
  },
  {
   "cell_type": "code",
   "execution_count": 35,
   "id": "d3c3701f",
   "metadata": {},
   "outputs": [
    {
     "data": {
      "text/plain": [
       "True"
      ]
     },
     "execution_count": 35,
     "metadata": {},
     "output_type": "execute_result"
    }
   ],
   "source": [
    "not False"
   ]
  },
  {
   "cell_type": "code",
   "execution_count": 36,
   "id": "4b3f94ed",
   "metadata": {},
   "outputs": [
    {
     "data": {
      "text/plain": [
       "True"
      ]
     },
     "execution_count": 36,
     "metadata": {},
     "output_type": "execute_result"
    }
   ],
   "source": [
    "#is \n",
    "1==1 "
   ]
  },
  {
   "cell_type": "code",
   "execution_count": 37,
   "id": "a36928d1",
   "metadata": {},
   "outputs": [
    {
     "name": "stderr",
     "output_type": "stream",
     "text": [
      "<>:1: SyntaxWarning: \"is\" with a literal. Did you mean \"==\"?\n",
      "<>:1: SyntaxWarning: \"is\" with a literal. Did you mean \"==\"?\n",
      "C:\\Users\\Jasmine\\AppData\\Local\\Temp\\ipykernel_1052\\3497154638.py:1: SyntaxWarning: \"is\" with a literal. Did you mean \"==\"?\n",
      "  1 is 1\n"
     ]
    },
    {
     "data": {
      "text/plain": [
       "True"
      ]
     },
     "execution_count": 37,
     "metadata": {},
     "output_type": "execute_result"
    }
   ],
   "source": [
    "1 is 1\n"
   ]
  },
  {
   "cell_type": "code",
   "execution_count": 39,
   "id": "95454c69",
   "metadata": {},
   "outputs": [
    {
     "name": "stdout",
     "output_type": "stream",
     "text": [
      "2133621958960\n",
      "2133621958992\n"
     ]
    },
    {
     "data": {
      "text/plain": [
       "False"
      ]
     },
     "execution_count": 39,
     "metadata": {},
     "output_type": "execute_result"
    }
   ],
   "source": [
    "#address of a variable\n",
    "x=1\n",
    "y=2\n",
    "print(id(x))\n",
    "print(id(y))\n",
    "x is y #compare memory address"
   ]
  },
  {
   "cell_type": "code",
   "execution_count": 53,
   "id": "270a8bad",
   "metadata": {},
   "outputs": [
    {
     "name": "stdout",
     "output_type": "stream",
     "text": [
      "2133622149168\n",
      "2133622149168\n"
     ]
    },
    {
     "data": {
      "text/plain": [
       "True"
      ]
     },
     "execution_count": 53,
     "metadata": {},
     "output_type": "execute_result"
    }
   ],
   "source": [
    "x=55\n",
    "y=55\n",
    "print(id(x))\n",
    "print(id(y))\n",
    "x is y"
   ]
  },
  {
   "cell_type": "code",
   "execution_count": null,
   "id": "c362e687",
   "metadata": {},
   "outputs": [],
   "source": [
    "#python inserts values from 0 to 255 in a same memory location and afer that stores it in diff memory locations\n",
    "#for strings, a valid variable causes the string to be stored in the same memory (string interning)"
   ]
  },
  {
   "cell_type": "code",
   "execution_count": 54,
   "id": "3fdde26a",
   "metadata": {},
   "outputs": [
    {
     "data": {
      "text/plain": [
       "True"
      ]
     },
     "execution_count": 54,
     "metadata": {},
     "output_type": "execute_result"
    }
   ],
   "source": [
    "x=257\n",
    "y=257\n",
    "x is not y"
   ]
  },
  {
   "cell_type": "code",
   "execution_count": null,
   "id": "c1665c5a",
   "metadata": {},
   "outputs": [],
   "source": [
    "#in operator\n",
    "'a' in 'jasmine'"
   ]
  },
  {
   "cell_type": "code",
   "execution_count": 41,
   "id": "b45444bb",
   "metadata": {},
   "outputs": [
    {
     "data": {
      "text/plain": [
       "False"
      ]
     },
     "execution_count": 41,
     "metadata": {},
     "output_type": "execute_result"
    }
   ],
   "source": [
    "'A' in 'jasmine' #case sensitive"
   ]
  },
  {
   "cell_type": "code",
   "execution_count": 42,
   "id": "69914bf9",
   "metadata": {},
   "outputs": [
    {
     "data": {
      "text/plain": [
       "False"
      ]
     },
     "execution_count": 42,
     "metadata": {},
     "output_type": "execute_result"
    }
   ],
   "source": [
    "'js' in 'jasmine' #looks for a sequence"
   ]
  },
  {
   "cell_type": "code",
   "execution_count": 43,
   "id": "d644acb1",
   "metadata": {},
   "outputs": [
    {
     "data": {
      "text/plain": [
       "True"
      ]
     },
     "execution_count": 43,
     "metadata": {},
     "output_type": "execute_result"
    }
   ],
   "source": [
    "True and True or False"
   ]
  },
  {
   "cell_type": "code",
   "execution_count": 44,
   "id": "f62579bd",
   "metadata": {},
   "outputs": [
    {
     "data": {
      "text/plain": [
       "True"
      ]
     },
     "execution_count": 44,
     "metadata": {},
     "output_type": "execute_result"
    }
   ],
   "source": [
    "#precedence and-or-\n",
    "True or False and False"
   ]
  },
  {
   "cell_type": "markdown",
   "id": "46394361",
   "metadata": {},
   "source": [
    "# Bitwise Operators"
   ]
  },
  {
   "cell_type": "code",
   "execution_count": 45,
   "id": "6f1cc7c1",
   "metadata": {},
   "outputs": [
    {
     "name": "stdout",
     "output_type": "stream",
     "text": [
      "a & b  2\n"
     ]
    }
   ],
   "source": [
    "#bitwise and\n",
    "a=2 #binary 0010\n",
    "b=3 #binary 0011\n",
    "print('a & b: ',a&b)"
   ]
  },
  {
   "cell_type": "code",
   "execution_count": 48,
   "id": "b97e8b54",
   "metadata": {},
   "outputs": [
    {
     "name": "stdout",
     "output_type": "stream",
     "text": [
      "a or b:  3\n"
     ]
    }
   ],
   "source": [
    "#bitwise and\n",
    "a=2 #binary 0010\n",
    "b=3 #binary 0011\n",
    "print('a or b: ',a|b)"
   ]
  },
  {
   "cell_type": "markdown",
   "id": "3ba9f0ae",
   "metadata": {},
   "source": [
    "\n",
    "# Assignment operators"
   ]
  },
  {
   "cell_type": "code",
   "execution_count": 49,
   "id": "334b270d",
   "metadata": {},
   "outputs": [],
   "source": [
    "x=5"
   ]
  },
  {
   "cell_type": "code",
   "execution_count": 50,
   "id": "ab5d2319",
   "metadata": {},
   "outputs": [
    {
     "name": "stdout",
     "output_type": "stream",
     "text": [
      "10\n"
     ]
    }
   ],
   "source": [
    "x=x+5\n",
    "print(x)"
   ]
  },
  {
   "cell_type": "code",
   "execution_count": 51,
   "id": "3ce91094",
   "metadata": {},
   "outputs": [
    {
     "name": "stdout",
     "output_type": "stream",
     "text": [
      "15\n"
     ]
    }
   ],
   "source": [
    "x+=5\n",
    "print(x)"
   ]
  },
  {
   "cell_type": "markdown",
   "id": "a2f82393",
   "metadata": {},
   "source": [
    "# Namespace"
   ]
  },
  {
   "cell_type": "code",
   "execution_count": 55,
   "id": "61e44022",
   "metadata": {},
   "outputs": [
    {
     "name": "stdout",
     "output_type": "stream",
     "text": [
      "ram\n"
     ]
    }
   ],
   "source": [
    "#gloal scope/ file level/ module level scope / global namespace\n",
    "ram=\"ram\"\n",
    "print(ram)\n"
   ]
  },
  {
   "cell_type": "code",
   "execution_count": 56,
   "id": "99e54034",
   "metadata": {},
   "outputs": [],
   "source": [
    "#built in scope like print, input, max, sum, min, len"
   ]
  },
  {
   "cell_type": "code",
   "execution_count": 57,
   "id": "db5fd095",
   "metadata": {},
   "outputs": [],
   "source": [
    "#local scope within functions\n",
    "def hello():\n",
    "    h='hello'\n",
    "    print(h)"
   ]
  },
  {
   "cell_type": "code",
   "execution_count": 58,
   "id": "43503d39",
   "metadata": {},
   "outputs": [
    {
     "name": "stdout",
     "output_type": "stream",
     "text": [
      "hello\n"
     ]
    }
   ],
   "source": [
    "hello() #call from the function"
   ]
  },
  {
   "cell_type": "code",
   "execution_count": 59,
   "id": "8468547a",
   "metadata": {},
   "outputs": [
    {
     "ename": "NameError",
     "evalue": "name 'h' is not defined",
     "output_type": "error",
     "traceback": [
      "\u001b[1;31m---------------------------------------------------------------------------\u001b[0m",
      "\u001b[1;31mNameError\u001b[0m                                 Traceback (most recent call last)",
      "Cell \u001b[1;32mIn[59], line 1\u001b[0m\n\u001b[1;32m----> 1\u001b[0m \u001b[38;5;28mprint\u001b[39m(\u001b[43mh\u001b[49m)\n",
      "\u001b[1;31mNameError\u001b[0m: name 'h' is not defined"
     ]
    }
   ],
   "source": [
    "print(h) #as h is defined within a function"
   ]
  },
  {
   "cell_type": "markdown",
   "id": "0ac36f78",
   "metadata": {},
   "source": [
    "# Number, Type conversion"
   ]
  },
  {
   "cell_type": "code",
   "execution_count": 61,
   "id": "dfbed921",
   "metadata": {},
   "outputs": [
    {
     "name": "stdout",
     "output_type": "stream",
     "text": [
      "True\n",
      "<class 'complex'>\n"
     ]
    }
   ],
   "source": [
    "#is instance operator\n",
    "a= 2+3j\n",
    "print(isinstance(a,complex))\n",
    "print(type(a))"
   ]
  },
  {
   "cell_type": "code",
   "execution_count": 62,
   "id": "41829e9f",
   "metadata": {},
   "outputs": [
    {
     "name": "stdout",
     "output_type": "stream",
     "text": [
      "21\n",
      "10\n",
      "74569\n"
     ]
    }
   ],
   "source": [
    "#binary, octal, hexadecimal\n",
    "print(0b10101) #binary\n",
    "print(0o012) #octal\n",
    "print(0x12349) #hexadecimal"
   ]
  },
  {
   "cell_type": "code",
   "execution_count": 63,
   "id": "d241a096",
   "metadata": {},
   "outputs": [],
   "source": [
    "#adding int to float gives float\n"
   ]
  },
  {
   "cell_type": "markdown",
   "id": "7304610f",
   "metadata": {},
   "source": [
    "# Decimal module"
   ]
  },
  {
   "cell_type": "code",
   "execution_count": 64,
   "id": "06b1a107",
   "metadata": {},
   "outputs": [
    {
     "name": "stdout",
     "output_type": "stream",
     "text": [
      "3.3\n"
     ]
    }
   ],
   "source": [
    "import decimal\n",
    "print(decimal. Decimal('1.1')+ decimal.Decimal('2.2'))"
   ]
  },
  {
   "cell_type": "code",
   "execution_count": 65,
   "id": "c89b78fc",
   "metadata": {},
   "outputs": [
    {
     "name": "stdout",
     "output_type": "stream",
     "text": [
      "3.3\n"
     ]
    }
   ],
   "source": [
    "from decimal import Decimal #Decimal is class and decimal is module\n",
    "print(decimal. Decimal('1.1')+ decimal.Decimal('2.2'))"
   ]
  },
  {
   "cell_type": "code",
   "execution_count": 66,
   "id": "380f98b7",
   "metadata": {},
   "outputs": [
    {
     "name": "stdout",
     "output_type": "stream",
     "text": [
      "3.3\n"
     ]
    }
   ],
   "source": [
    "from decimal import Decimal as d\n",
    "print(d('1.1')+ d('2.2'))"
   ]
  },
  {
   "cell_type": "code",
   "execution_count": null,
   "id": "cd54689e",
   "metadata": {},
   "outputs": [],
   "source": []
  }
 ],
 "metadata": {
  "kernelspec": {
   "display_name": "Python 3 (ipykernel)",
   "language": "python",
   "name": "python3"
  },
  "language_info": {
   "codemirror_mode": {
    "name": "ipython",
    "version": 3
   },
   "file_extension": ".py",
   "mimetype": "text/x-python",
   "name": "python",
   "nbconvert_exporter": "python",
   "pygments_lexer": "ipython3",
   "version": "3.9.0"
  }
 },
 "nbformat": 4,
 "nbformat_minor": 5
}

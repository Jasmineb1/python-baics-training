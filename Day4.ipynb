{
 "cells": [
  {
   "cell_type": "markdown",
   "id": "b075e02a",
   "metadata": {},
   "source": [
    "# Type conversion and Mathematics"
   ]
  },
  {
   "cell_type": "code",
   "execution_count": 2,
   "id": "0e412576",
   "metadata": {},
   "outputs": [
    {
     "name": "stdout",
     "output_type": "stream",
     "text": [
      "3/2\n",
      "9\n",
      "1/6\n"
     ]
    }
   ],
   "source": [
    "#fractions\n",
    "import fractions\n",
    "print(fractions.Fraction(1.5))\n",
    "print(fractions.Fraction(9))\n",
    "print(fractions.Fraction(1,6))"
   ]
  },
  {
   "cell_type": "code",
   "execution_count": 3,
   "id": "8c496871",
   "metadata": {},
   "outputs": [
    {
     "name": "stdout",
     "output_type": "stream",
     "text": [
      "2476979795053773/2251799813685248\n"
     ]
    }
   ],
   "source": [
    "print(fractions.Fraction(1.1))"
   ]
  },
  {
   "cell_type": "code",
   "execution_count": 4,
   "id": "03c2a922",
   "metadata": {},
   "outputs": [
    {
     "name": "stdout",
     "output_type": "stream",
     "text": [
      "11/10\n"
     ]
    }
   ],
   "source": [
    "print(fractions.Fraction('1.1'))"
   ]
  },
  {
   "cell_type": "code",
   "execution_count": 7,
   "id": "5700865d",
   "metadata": {},
   "outputs": [
    {
     "name": "stdout",
     "output_type": "stream",
     "text": [
      "Enter the value of radius10\n",
      "the area is 314.1592653589793 \n",
      " the perimeter is 62.83185307179586\n"
     ]
    }
   ],
   "source": [
    "#radius and find the area and perimeter\n",
    "import math\n",
    "r=int(input(\"Enter the value of radius\"))\n",
    "area= math.pi*r*r\n",
    "perimeter= 2*math.pi*r\n",
    "print(f\"the area is {area} \\n the perimeter is {perimeter}\")\n"
   ]
  },
  {
   "cell_type": "code",
   "execution_count": 8,
   "id": "a5560d87",
   "metadata": {},
   "outputs": [
    {
     "data": {
      "text/plain": [
       "720"
      ]
     },
     "execution_count": 8,
     "metadata": {},
     "output_type": "execute_result"
    }
   ],
   "source": [
    "math.factorial(6) #factorial"
   ]
  },
  {
   "cell_type": "code",
   "execution_count": 11,
   "id": "2ca92dea",
   "metadata": {},
   "outputs": [
    {
     "name": "stdout",
     "output_type": "stream",
     "text": [
      "d\n"
     ]
    }
   ],
   "source": [
    "import random # importing the random module\n",
    "x=['a','b','c','d','e'] #x is a dictionary \n",
    "#print a random value\n",
    "print(random.choice(x))"
   ]
  },
  {
   "cell_type": "code",
   "execution_count": 13,
   "id": "5454938a",
   "metadata": {},
   "outputs": [
    {
     "name": "stdout",
     "output_type": "stream",
     "text": [
      "['b', 'd', 'c', 'a', 'e']\n"
     ]
    }
   ],
   "source": [
    "#shuffle x\n",
    "#randomly shuffle the tuples\n",
    "random.shuffle(x)\n",
    "print(x)"
   ]
  },
  {
   "cell_type": "code",
   "execution_count": 15,
   "id": "48590a46",
   "metadata": {},
   "outputs": [
    {
     "name": "stdout",
     "output_type": "stream",
     "text": [
      "0.17060844180654755\n"
     ]
    }
   ],
   "source": [
    "#print random element\n",
    "print(random.random())"
   ]
  },
  {
   "cell_type": "code",
   "execution_count": 17,
   "id": "1546db04",
   "metadata": {},
   "outputs": [
    {
     "data": {
      "text/plain": [
       "3"
      ]
     },
     "execution_count": 17,
     "metadata": {},
     "output_type": "execute_result"
    }
   ],
   "source": [
    "random.randint(1,10)"
   ]
  },
  {
   "cell_type": "code",
   "execution_count": 18,
   "id": "bce08ce0",
   "metadata": {},
   "outputs": [],
   "source": [
    "#number type data is immutable data structure which means that they cannot be changed once declared"
   ]
  },
  {
   "cell_type": "code",
   "execution_count": null,
   "id": "eba4844f",
   "metadata": {},
   "outputs": [],
   "source": []
  }
 ],
 "metadata": {
  "kernelspec": {
   "display_name": "Python 3 (ipykernel)",
   "language": "python",
   "name": "python3"
  },
  "language_info": {
   "codemirror_mode": {
    "name": "ipython",
    "version": 3
   },
   "file_extension": ".py",
   "mimetype": "text/x-python",
   "name": "python",
   "nbconvert_exporter": "python",
   "pygments_lexer": "ipython3",
   "version": "3.9.0"
  }
 },
 "nbformat": 4,
 "nbformat_minor": 5
}

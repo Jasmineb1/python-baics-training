{
 "cells": [
  {
   "cell_type": "markdown",
   "id": "37739399",
   "metadata": {},
   "source": [
    "# Strings Contd.."
   ]
  },
  {
   "cell_type": "code",
   "execution_count": 1,
   "id": "f4336907",
   "metadata": {},
   "outputs": [
    {
     "name": "stdout",
     "output_type": "stream",
     "text": [
      "nepal\n"
     ]
    }
   ],
   "source": [
    "x=\"nepali\"\n",
    "print(x[0:5:1])"
   ]
  },
  {
   "cell_type": "code",
   "execution_count": 2,
   "id": "8edf3512",
   "metadata": {},
   "outputs": [
    {
     "name": "stdout",
     "output_type": "stream",
     "text": [
      "npl\n"
     ]
    }
   ],
   "source": [
    "x=\"nepal\"\n",
    "print(x[0:5:2]) #start: stp: step"
   ]
  },
  {
   "cell_type": "code",
   "execution_count": 5,
   "id": "cb08b917",
   "metadata": {},
   "outputs": [
    {
     "name": "stdout",
     "output_type": "stream",
     "text": [
      "\n"
     ]
    }
   ],
   "source": [
    "x=\"\" #empty string\n",
    "print(x)"
   ]
  },
  {
   "cell_type": "code",
   "execution_count": 6,
   "id": "727e9506",
   "metadata": {},
   "outputs": [
    {
     "name": "stdout",
     "output_type": "stream",
     "text": [
      "Nepal is beautiful \n"
     ]
    }
   ],
   "source": [
    "x=\"nepal is beautiful \"\n",
    "print(x.capitalize())"
   ]
  },
  {
   "cell_type": "code",
   "execution_count": 8,
   "id": "6ce4258b",
   "metadata": {},
   "outputs": [
    {
     "name": "stdout",
     "output_type": "stream",
     "text": [
      "False\n"
     ]
    }
   ],
   "source": [
    "x=\"nepal is beautiful\"\n",
    "print(x.startswith(\"Ne\"))"
   ]
  },
  {
   "cell_type": "code",
   "execution_count": 9,
   "id": "059519e2",
   "metadata": {},
   "outputs": [
    {
     "name": "stdout",
     "output_type": "stream",
     "text": [
      "3\n"
     ]
    }
   ],
   "source": [
    "x=\"nepal is beautiful\"\n",
    "print(x.find(\"a\"))"
   ]
  },
  {
   "cell_type": "code",
   "execution_count": 10,
   "id": "74e3213e",
   "metadata": {},
   "outputs": [
    {
     "name": "stdout",
     "output_type": "stream",
     "text": [
      "11\n"
     ]
    }
   ],
   "source": [
    "x=\"nepal is beautiful\"\n",
    "print(x.find(\"a\",5))"
   ]
  },
  {
   "cell_type": "code",
   "execution_count": 11,
   "id": "d2e571d4",
   "metadata": {},
   "outputs": [
    {
     "name": "stdout",
     "output_type": "stream",
     "text": [
      "False\n"
     ]
    }
   ],
   "source": [
    "x=\"nepal.\"\n",
    "print(x.isalnum()) #not albhabet and numeral only"
   ]
  },
  {
   "cell_type": "code",
   "execution_count": 12,
   "id": "0079fa50",
   "metadata": {},
   "outputs": [
    {
     "name": "stdout",
     "output_type": "stream",
     "text": [
      "True\n"
     ]
    }
   ],
   "source": [
    "#albhabet and numeral only\n",
    "x=\"nepal\"\n",
    "print(x.isalnum())"
   ]
  },
  {
   "cell_type": "code",
   "execution_count": 14,
   "id": "dff808dd",
   "metadata": {},
   "outputs": [
    {
     "name": "stdout",
     "output_type": "stream",
     "text": [
      "True\n"
     ]
    }
   ],
   "source": [
    "x=\"nepal123\"\n",
    "print(x.isalnum()) #is alphabet and numeric"
   ]
  },
  {
   "cell_type": "code",
   "execution_count": 17,
   "id": "090ce1c9",
   "metadata": {},
   "outputs": [
    {
     "name": "stdout",
     "output_type": "stream",
     "text": [
      "True\n"
     ]
    }
   ],
   "source": [
    "x=\"nepal\"\n",
    "print(x.islower()) #is lower case"
   ]
  },
  {
   "cell_type": "code",
   "execution_count": 20,
   "id": "aa26f330",
   "metadata": {},
   "outputs": [
    {
     "name": "stdout",
     "output_type": "stream",
     "text": [
      "False\n",
      "True\n"
     ]
    }
   ],
   "source": [
    "x=\"NEPAL\"\n",
    "print(x.islower())\n",
    "print(x.isupper()) #uppercse check"
   ]
  },
  {
   "cell_type": "code",
   "execution_count": 23,
   "id": "a20bbc99",
   "metadata": {},
   "outputs": [
    {
     "name": "stdout",
     "output_type": "stream",
     "text": [
      "ram, shyam, hari\n"
     ]
    }
   ],
   "source": [
    "#joining operation\n",
    "x=[\"ram\",'shyam','hari']\n",
    "y=\", \".join(x)\n",
    "print(y)"
   ]
  },
  {
   "cell_type": "code",
   "execution_count": 27,
   "id": "5f3d1cbf",
   "metadata": {},
   "outputs": [
    {
     "name": "stdout",
     "output_type": "stream",
     "text": [
      "['one', 'two', 'three']\n"
     ]
    }
   ],
   "source": [
    "#split\n",
    "x=\"one=>two=>three\"\n",
    "y=x.split(\"=>\")\n",
    "print(y)"
   ]
  },
  {
   "cell_type": "code",
   "execution_count": 28,
   "id": "1a811ac2",
   "metadata": {},
   "outputs": [
    {
     "name": "stdout",
     "output_type": "stream",
     "text": [
      "['nepal ', ' nepal']\n"
     ]
    }
   ],
   "source": [
    "x=\"nepal NEPAL nepal\"\n",
    "y=x.split(\"NEPAL\")\n",
    "print(y)"
   ]
  },
  {
   "cell_type": "code",
   "execution_count": 29,
   "id": "ad2434f8",
   "metadata": {},
   "outputs": [
    {
     "name": "stdout",
     "output_type": "stream",
     "text": [
      "gopal NEPAL gopal\n"
     ]
    }
   ],
   "source": [
    "#replace function\n",
    "x=\"nepal NEPAL nepal\"\n",
    "y=x.replace(\"ne\",\"go\")\n",
    "print(y)"
   ]
  },
  {
   "cell_type": "code",
   "execution_count": 31,
   "id": "e0bffa3b",
   "metadata": {},
   "outputs": [
    {
     "name": "stdout",
     "output_type": "stream",
     "text": [
      "nepalnepal\n"
     ]
    }
   ],
   "source": [
    "#replication\n",
    "x=\"nepal\"*2\n",
    "print(x)"
   ]
  },
  {
   "cell_type": "code",
   "execution_count": 32,
   "id": "df12a798",
   "metadata": {},
   "outputs": [
    {
     "ename": "TypeError",
     "evalue": "can only concatenate str (not \"int\") to str",
     "output_type": "error",
     "traceback": [
      "\u001b[1;31m---------------------------------------------------------------------------\u001b[0m",
      "\u001b[1;31mTypeError\u001b[0m                                 Traceback (most recent call last)",
      "Cell \u001b[1;32mIn[32], line 2\u001b[0m\n\u001b[0;32m      1\u001b[0m \u001b[38;5;66;03m#replication\u001b[39;00m\n\u001b[1;32m----> 2\u001b[0m x\u001b[38;5;241m=\u001b[39m\u001b[38;5;124;43m\"\u001b[39;49m\u001b[38;5;124;43mnepal\u001b[39;49m\u001b[38;5;124;43m\"\u001b[39;49m\u001b[38;5;241;43m+\u001b[39;49m\u001b[38;5;241;43m2\u001b[39;49m\n\u001b[0;32m      3\u001b[0m \u001b[38;5;28mprint\u001b[39m(x)\n",
      "\u001b[1;31mTypeError\u001b[0m: can only concatenate str (not \"int\") to str"
     ]
    }
   ],
   "source": [
    "#replication\n",
    "x=\"nepal\"+2 #not allowed\n",
    "print(x)"
   ]
  },
  {
   "cell_type": "code",
   "execution_count": 33,
   "id": "e86ddebf",
   "metadata": {},
   "outputs": [
    {
     "name": "stdout",
     "output_type": "stream",
     "text": [
      "nepal2\n"
     ]
    }
   ],
   "source": [
    "#replication\n",
    "x=\"nepal\"+\"2\" #concatenation\n",
    "print(x)"
   ]
  },
  {
   "cell_type": "code",
   "execution_count": null,
   "id": "f6af64aa",
   "metadata": {},
   "outputs": [],
   "source": []
  }
 ],
 "metadata": {
  "kernelspec": {
   "display_name": "Python 3 (ipykernel)",
   "language": "python",
   "name": "python3"
  },
  "language_info": {
   "codemirror_mode": {
    "name": "ipython",
    "version": 3
   },
   "file_extension": ".py",
   "mimetype": "text/x-python",
   "name": "python",
   "nbconvert_exporter": "python",
   "pygments_lexer": "ipython3",
   "version": "3.9.0"
  }
 },
 "nbformat": 4,
 "nbformat_minor": 5
}

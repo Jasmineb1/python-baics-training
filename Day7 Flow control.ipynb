{
 "cells": [
  {
   "cell_type": "markdown",
   "id": "5bac2b3e",
   "metadata": {},
   "source": [
    "# FLOW CONTROL"
   ]
  },
  {
   "cell_type": "code",
   "execution_count": 1,
   "id": "d67d6ff8",
   "metadata": {},
   "outputs": [
    {
     "name": "stdout",
     "output_type": "stream",
     "text": [
      "unauthorized\n"
     ]
    }
   ],
   "source": [
    "age=17\n",
    "if age<=18:\n",
    "    print(\"unauthorized\")"
   ]
  },
  {
   "cell_type": "code",
   "execution_count": 2,
   "id": "aa3e245e",
   "metadata": {},
   "outputs": [
    {
     "name": "stdout",
     "output_type": "stream",
     "text": [
      "unauthorized\n",
      "Hello world\n"
     ]
    }
   ],
   "source": [
    "age=17\n",
    "if age<=18:\n",
    "    print(\"unauthorized\")\n",
    "print(\"Hello world\")"
   ]
  },
  {
   "cell_type": "code",
   "execution_count": 6,
   "id": "090c0987",
   "metadata": {},
   "outputs": [
    {
     "name": "stdout",
     "output_type": "stream",
     "text": [
      "Enter the marks90\n",
      "You passed\n"
     ]
    }
   ],
   "source": [
    "marks= int(input(\"Enter the marks\"))\n",
    "if marks < 40:\n",
    "    print(\"You failed\")\n",
    "else:\n",
    "    print(\"You passed\")"
   ]
  },
  {
   "cell_type": "code",
   "execution_count": 12,
   "id": "b259aeb4",
   "metadata": {},
   "outputs": [
    {
     "name": "stdout",
     "output_type": "stream",
     "text": [
      "Enter x7\n",
      "Enter y9\n",
      "9 is greater\n"
     ]
    }
   ],
   "source": [
    "x=int(input(\"Enter x\"))\n",
    "y=int(input(\"Enter y\"))\n",
    "if (x>y):\n",
    "    print(f\"{x} is greater\")\n",
    "else:\n",
    "    print(f\"{y} is greater\")"
   ]
  },
  {
   "cell_type": "code",
   "execution_count": 14,
   "id": "95ac11c6",
   "metadata": {},
   "outputs": [
    {
     "name": "stdout",
     "output_type": "stream",
     "text": [
      "Enter x10\n",
      "Enter y10\n",
      "10 an10 are same\n"
     ]
    }
   ],
   "source": [
    "x=int(input(\"Enter x\"))\n",
    "y=int(input(\"Enter y\"))\n",
    "if (x>y):\n",
    "    print(f\"{x} is greater\")\n",
    "if (x==y):\n",
    "    print(f\"{x} an{y} are same\")\n",
    "if (x<y):\n",
    "    print(f\"{y} is greater\")"
   ]
  },
  {
   "cell_type": "code",
   "execution_count": 16,
   "id": "764cc7c8",
   "metadata": {},
   "outputs": [
    {
     "name": "stdout",
     "output_type": "stream",
     "text": [
      "Enter x10\n",
      "Enter y11\n",
      "11 is greater\n"
     ]
    }
   ],
   "source": [
    "#use of elif\n",
    "x=int(input(\"Enter x\"))\n",
    "y=int(input(\"Enter y\"))\n",
    "if (x>y):\n",
    "    print(f\"{x} is greater\")\n",
    "elif (x==y):\n",
    "    print(f\"{x} an{y} are same\")\n",
    "else:\n",
    "    print(f\"{y} is greater\")"
   ]
  },
  {
   "cell_type": "code",
   "execution_count": 20,
   "id": "f6cec5ba",
   "metadata": {},
   "outputs": [
    {
     "name": "stdout",
     "output_type": "stream",
     "text": [
      "Enter x10\n",
      "Enter y4\n",
      "enter z3\n",
      "10 is greatest\n"
     ]
    }
   ],
   "source": [
    "x=int(input(\"Enter x\"))\n",
    "y=int(input(\"Enter y\"))\n",
    "z=int(input(\"enter z\"))\n",
    "if ((x>y) and (x>z)):\n",
    "    print(f\"{x} is greatest\")\n",
    "elif (y>x and y>z):\n",
    "    print(f\"{y} is greatest\")\n",
    "else:\n",
    "    print(f\"{z} is greatest\")"
   ]
  },
  {
   "cell_type": "code",
   "execution_count": 24,
   "id": "8fbc279d",
   "metadata": {},
   "outputs": [
    {
     "name": "stdout",
     "output_type": "stream",
     "text": [
      "Enter usernameusername\n",
      "enter passwordadmin123\n",
      "Valid!\n"
     ]
    }
   ],
   "source": [
    "x=input(\"Enter username\")\n",
    "password= input(\"enter password\")\n",
    "if x==\"username\" and password==\"admin123\":\n",
    "    print(\"Valid!\")\n",
    "else:\n",
    "    print(\"invalid entry\")\n",
    "    "
   ]
  },
  {
   "cell_type": "code",
   "execution_count": null,
   "id": "806198ec",
   "metadata": {},
   "outputs": [],
   "source": []
  },
  {
   "cell_type": "code",
   "execution_count": 29,
   "id": "abec437d",
   "metadata": {},
   "outputs": [
    {
     "name": "stdout",
     "output_type": "stream",
     "text": [
      "enter rolesuperuser\n",
      "Enter usernameadmin\n",
      "enter passwordadmin\n",
      "Access granted\n"
     ]
    }
   ],
   "source": [
    "role=input(\"enter role\")\n",
    "if role==\"superuser\":\n",
    "    print(\"Access granted\")\n",
    "x=input(\"Enter username\")\n",
    "password= input(\"enter password\")\n",
    "\n",
    "elif ( x==\"username\" and password==\"admin123\"):\n",
    "    print(\"Valid!\")\n",
    "else:\n",
    "    print(\"invalid entry\")"
   ]
  },
  {
   "cell_type": "code",
   "execution_count": 34,
   "id": "fe3469c7",
   "metadata": {},
   "outputs": [
    {
     "name": "stdout",
     "output_type": "stream",
     "text": [
      "Enter usernameusername\n",
      "enter passwordadmin123\n",
      "Valid!\n"
     ]
    }
   ],
   "source": [
    "\n",
    "x=input(\"Enter username\")\n",
    "password= input(\"enter password\")\n",
    "\n",
    "if ( x==\"username\" and password==\"admin123\"):\n",
    "    print(\"Valid!\")\n",
    "else:\n",
    "    role=input(\"enter role\")\n",
    "    if role==\"superuser\":\n",
    "        print(\"Access granted\")\n",
    "    else:\n",
    "        print(\"invalid entry\")"
   ]
  },
  {
   "cell_type": "code",
   "execution_count": null,
   "id": "c703b439",
   "metadata": {},
   "outputs": [],
   "source": []
  }
 ],
 "metadata": {
  "kernelspec": {
   "display_name": "Python 3 (ipykernel)",
   "language": "python",
   "name": "python3"
  },
  "language_info": {
   "codemirror_mode": {
    "name": "ipython",
    "version": 3
   },
   "file_extension": ".py",
   "mimetype": "text/x-python",
   "name": "python",
   "nbconvert_exporter": "python",
   "pygments_lexer": "ipython3",
   "version": "3.9.0"
  }
 },
 "nbformat": 4,
 "nbformat_minor": 5
}

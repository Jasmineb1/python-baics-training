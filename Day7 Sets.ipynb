{
 "cells": [
  {
   "cell_type": "markdown",
   "id": "4116b1dc",
   "metadata": {},
   "source": [
    "# SETS"
   ]
  },
  {
   "cell_type": "code",
   "execution_count": 2,
   "id": "108a0653",
   "metadata": {},
   "outputs": [
    {
     "name": "stdout",
     "output_type": "stream",
     "text": [
      "{'shyam', 'ram', 'gita', 'hari'}\n"
     ]
    }
   ],
   "source": [
    "tea={'ram','shyam'}\n",
    "coffee={'gita', 'hari'}\n",
    "#difference\n",
    "tea_only_or_coffee_only= coffee ^ tea\n",
    "print(tea_only_or_coffee_only)"
   ]
  },
  {
   "cell_type": "code",
   "execution_count": 4,
   "id": "b58918df",
   "metadata": {},
   "outputs": [
    {
     "name": "stdout",
     "output_type": "stream",
     "text": [
      "{'sita', 'shyam'}\n"
     ]
    }
   ],
   "source": [
    "#discard\n",
    "tea={'ram','shyam','sita'}\n",
    "tea.discard('ram')\n",
    "print(tea)"
   ]
  },
  {
   "cell_type": "code",
   "execution_count": 5,
   "id": "d122fc9d",
   "metadata": {},
   "outputs": [
    {
     "ename": "KeyError",
     "evalue": "'ramesh'",
     "output_type": "error",
     "traceback": [
      "\u001b[1;31m---------------------------------------------------------------------------\u001b[0m",
      "\u001b[1;31mKeyError\u001b[0m                                  Traceback (most recent call last)",
      "Cell \u001b[1;32mIn[5], line 3\u001b[0m\n\u001b[0;32m      1\u001b[0m \u001b[38;5;66;03m#remove\u001b[39;00m\n\u001b[0;32m      2\u001b[0m tea\u001b[38;5;241m=\u001b[39m{\u001b[38;5;124m'\u001b[39m\u001b[38;5;124mram\u001b[39m\u001b[38;5;124m'\u001b[39m,\u001b[38;5;124m'\u001b[39m\u001b[38;5;124mshyam\u001b[39m\u001b[38;5;124m'\u001b[39m,\u001b[38;5;124m'\u001b[39m\u001b[38;5;124msita\u001b[39m\u001b[38;5;124m'\u001b[39m}\n\u001b[1;32m----> 3\u001b[0m \u001b[43mtea\u001b[49m\u001b[38;5;241;43m.\u001b[39;49m\u001b[43mremove\u001b[49m\u001b[43m(\u001b[49m\u001b[38;5;124;43m'\u001b[39;49m\u001b[38;5;124;43mramesh\u001b[39;49m\u001b[38;5;124;43m'\u001b[39;49m\u001b[43m)\u001b[49m \u001b[38;5;66;03m#throws error if not present\u001b[39;00m\n\u001b[0;32m      4\u001b[0m \u001b[38;5;28mprint\u001b[39m(tea)\n",
      "\u001b[1;31mKeyError\u001b[0m: 'ramesh'"
     ]
    }
   ],
   "source": [
    "#remove\n",
    "tea={'ram','shyam','sita'}\n",
    "tea.remove('ramesh') #throws error if not present\n",
    "print(tea)\n"
   ]
  },
  {
   "cell_type": "code",
   "execution_count": 6,
   "id": "4288f3fe",
   "metadata": {},
   "outputs": [
    {
     "name": "stdout",
     "output_type": "stream",
     "text": [
      "{'shyam', 'ram'}\n"
     ]
    }
   ],
   "source": [
    "#pop removed any arbitrary value\n",
    "tea={'ram','shyam','sita'}\n",
    "tea.pop()\n",
    "print(tea)"
   ]
  },
  {
   "cell_type": "code",
   "execution_count": 8,
   "id": "de4a6602",
   "metadata": {},
   "outputs": [
    {
     "ename": "KeyError",
     "evalue": "'pop from an empty set'",
     "output_type": "error",
     "traceback": [
      "\u001b[1;31m---------------------------------------------------------------------------\u001b[0m",
      "\u001b[1;31mKeyError\u001b[0m                                  Traceback (most recent call last)",
      "Cell \u001b[1;32mIn[8], line 3\u001b[0m\n\u001b[0;32m      1\u001b[0m \u001b[38;5;66;03m#pop removed any arbitrary value\u001b[39;00m\n\u001b[0;32m      2\u001b[0m tea\u001b[38;5;241m=\u001b[39m \u001b[38;5;28mset\u001b[39m()\n\u001b[1;32m----> 3\u001b[0m \u001b[43mtea\u001b[49m\u001b[38;5;241;43m.\u001b[39;49m\u001b[43mpop\u001b[49m\u001b[43m(\u001b[49m\u001b[43m)\u001b[49m \u001b[38;5;66;03m#if empty, no elements can be popped\u001b[39;00m\n\u001b[0;32m      4\u001b[0m \u001b[38;5;28mprint\u001b[39m(tea)\n",
      "\u001b[1;31mKeyError\u001b[0m: 'pop from an empty set'"
     ]
    }
   ],
   "source": [
    "#pop removed any arbitrary value\n",
    "tea= set()\n",
    "tea.pop() #if empty, no elements can be popped\n",
    "print(tea)"
   ]
  },
  {
   "cell_type": "code",
   "execution_count": 10,
   "id": "0335bf0f",
   "metadata": {},
   "outputs": [
    {
     "data": {
      "text/plain": [
       "True"
      ]
     },
     "execution_count": 10,
     "metadata": {},
     "output_type": "execute_result"
    }
   ],
   "source": [
    "all([1,2,3,4])"
   ]
  },
  {
   "cell_type": "code",
   "execution_count": 11,
   "id": "b2d3cd77",
   "metadata": {},
   "outputs": [
    {
     "data": {
      "text/plain": [
       "True"
      ]
     },
     "execution_count": 11,
     "metadata": {},
     "output_type": "execute_result"
    }
   ],
   "source": [
    "any([1,2,3,4])"
   ]
  },
  {
   "cell_type": "code",
   "execution_count": 12,
   "id": "75fc8bd7",
   "metadata": {},
   "outputs": [
    {
     "data": {
      "text/plain": [
       "False"
      ]
     },
     "execution_count": 12,
     "metadata": {},
     "output_type": "execute_result"
    }
   ],
   "source": [
    "all([0,1,2,3,4])"
   ]
  },
  {
   "cell_type": "code",
   "execution_count": 13,
   "id": "b53bf22a",
   "metadata": {},
   "outputs": [
    {
     "data": {
      "text/plain": [
       "[2, 3, 11, 55]"
      ]
     },
     "execution_count": 13,
     "metadata": {},
     "output_type": "execute_result"
    }
   ],
   "source": [
    "x={11,2,3,55}\n",
    "sorted(x)"
   ]
  },
  {
   "cell_type": "code",
   "execution_count": 14,
   "id": "0bc69a81",
   "metadata": {},
   "outputs": [
    {
     "data": {
      "text/plain": [
       "5"
      ]
     },
     "execution_count": 14,
     "metadata": {},
     "output_type": "execute_result"
    }
   ],
   "source": [
    "x={1,2,3,4,5}\n",
    "len(x)"
   ]
  },
  {
   "cell_type": "code",
   "execution_count": 15,
   "id": "591cd263",
   "metadata": {},
   "outputs": [
    {
     "data": {
      "text/plain": [
       "20"
      ]
     },
     "execution_count": 15,
     "metadata": {},
     "output_type": "execute_result"
    }
   ],
   "source": [
    "x={11,2,3,4}\n",
    "sum(x)"
   ]
  },
  {
   "cell_type": "code",
   "execution_count": 16,
   "id": "697f18f2",
   "metadata": {},
   "outputs": [
    {
     "data": {
      "text/plain": [
       "0"
      ]
     },
     "execution_count": 16,
     "metadata": {},
     "output_type": "execute_result"
    }
   ],
   "source": [
    "x={1,2,3,4,5,0}\n",
    "min(x)"
   ]
  },
  {
   "cell_type": "code",
   "execution_count": null,
   "id": "7c3cb22d",
   "metadata": {},
   "outputs": [],
   "source": []
  }
 ],
 "metadata": {
  "kernelspec": {
   "display_name": "Python 3 (ipykernel)",
   "language": "python",
   "name": "python3"
  },
  "language_info": {
   "codemirror_mode": {
    "name": "ipython",
    "version": 3
   },
   "file_extension": ".py",
   "mimetype": "text/x-python",
   "name": "python",
   "nbconvert_exporter": "python",
   "pygments_lexer": "ipython3",
   "version": "3.9.0"
  }
 },
 "nbformat": 4,
 "nbformat_minor": 5
}

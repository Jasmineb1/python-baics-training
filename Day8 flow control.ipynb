{
 "cells": [
  {
   "cell_type": "code",
   "execution_count": 2,
   "id": "3af4aa32",
   "metadata": {},
   "outputs": [
    {
     "name": "stdout",
     "output_type": "stream",
     "text": [
      "enter usernameadmin\n",
      "Enter passwordadmin\n",
      "Enter rolesuperuser\n",
      "successfully logged in\n"
     ]
    }
   ],
   "source": [
    "#if else\n",
    "username= input(\"enter username\")\n",
    "password= input(\"Enter password\")\n",
    "if(username==\"admin\" and password==\"admin123\"):\n",
    "    print(\"Successfully logged in\")\n",
    "#nested if...else...\n",
    "else:\n",
    "    role=input(\"Enter role\")\n",
    "    if role== \"superuser\":\n",
    "        print(\"successfully logged in\")\n",
    "    else:\n",
    "        print(\"Invalid\")"
   ]
  },
  {
   "cell_type": "code",
   "execution_count": 11,
   "id": "74e66873",
   "metadata": {},
   "outputs": [
    {
     "name": "stdout",
     "output_type": "stream",
     "text": [
      "enter usernameadmin\n",
      "Enter passwordadmin\n",
      "Do you want to access through role?Y\n",
      "Enter rolesuperuser\n"
     ]
    }
   ],
   "source": [
    "#if else\n",
    "username= input(\"enter username\")\n",
    "password= input(\"Enter password\")\n",
    "if(username==\"admin\" and password==\"admin123\"):\n",
    "    print(\"Successfully logged in\")\n",
    "#nested if...else...\n",
    "else:\n",
    "    opt= input(\"Do you want to access through role?\")\n",
    "    if opt== \"Y\" or opt==\"Yes\":\n",
    "         role=input(\"Enter role\")\n",
    "    else:\n",
    "        print(\"Invalid entry\")"
   ]
  },
  {
   "cell_type": "code",
   "execution_count": 18,
   "id": "1a4698c5",
   "metadata": {},
   "outputs": [
    {
     "name": "stdout",
     "output_type": "stream",
     "text": [
      "Enter marks in comp:100\n",
      "Enter marks in math:90\n",
      "Enter marks in eng:90\n",
      "Enter marks in sci:90\n",
      "Enter marks in nep:80\n",
      "total:450\n",
      "marks: 90.0\n",
      "Distinction\n"
     ]
    }
   ],
   "source": [
    "#if else\n",
    "#display the marks\n",
    "comp= int(input(\"Enter marks in comp:\"))\n",
    "math= int(input(\"Enter marks in math:\"))\n",
    "eng= int(input(\"Enter marks in eng:\"))\n",
    "sci= int(input(\"Enter marks in sci:\"))\n",
    "nepali= int(input(\"Enter marks in nep:\"))\n",
    "total= comp+math+eng+sci+nepali\n",
    "print(f\"total:{total}\")\n",
    "marks= total/5\n",
    "print(f\"marks: {marks}\")\n",
    "if marks >= 80:\n",
    "    print(\"Distinction\")\n",
    "elif marks > 60 and marks<80:\n",
    "    print(\"First division\")\n",
    "elif marks> 50 and marks<60:\n",
    "    print(\"Second division\")\n",
    "elif marks>35 and marks<50:\n",
    "    print(\"third division\")\n",
    "else:\n",
    "    print(\"Fail\")\n"
   ]
  },
  {
   "cell_type": "markdown",
   "id": "da7e3a2b",
   "metadata": {},
   "source": [
    "# LOOPS"
   ]
  },
  {
   "cell_type": "code",
   "execution_count": 19,
   "id": "def76343",
   "metadata": {},
   "outputs": [
    {
     "name": "stdout",
     "output_type": "stream",
     "text": [
      "1\n",
      "2\n",
      "3\n",
      "4\n",
      "5\n"
     ]
    }
   ],
   "source": [
    "x=[1,2,3,4,5]\n",
    "for num in x:\n",
    "    print(num)"
   ]
  },
  {
   "cell_type": "code",
   "execution_count": 23,
   "id": "8fbba829",
   "metadata": {},
   "outputs": [
    {
     "name": "stdout",
     "output_type": "stream",
     "text": [
      "1\n",
      "2\n",
      "3\n",
      "4\n",
      "5\n",
      "sum: 15\n"
     ]
    }
   ],
   "source": [
    "#sum\n",
    "x=[1,2,3,4,5]\n",
    "addit=0\n",
    "for num in x:\n",
    "    print(num)\n",
    "    addit= addit+num\n",
    "print(f\"sum: {addit}\")"
   ]
  },
  {
   "cell_type": "code",
   "execution_count": 26,
   "id": "9ccc46f8",
   "metadata": {},
   "outputs": [
    {
     "name": "stdout",
     "output_type": "stream",
     "text": [
      "1\n",
      "2\n",
      "3\n",
      "4\n",
      "5\n",
      "product: 120\n",
      "count:5\n"
     ]
    }
   ],
   "source": [
    "#multiplication\n",
    "x=[1,2,3,4,5]\n",
    "pro= 1\n",
    "count=0\n",
    "for num in x:\n",
    "    print(num)\n",
    "    pro= pro*num\n",
    "    count=count+1\n",
    "print(f\"product: {pro}\")\n",
    "print(f\"count:{count}\")"
   ]
  },
  {
   "cell_type": "code",
   "execution_count": 38,
   "id": "39299f29",
   "metadata": {},
   "outputs": [
    {
     "name": "stdout",
     "output_type": "stream",
     "text": [
      "[1, 4, 9, 16, 25]\n"
     ]
    }
   ],
   "source": [
    "#outpur i square and store into a list\n",
    "x=[1,2,3,4,5]\n",
    "y=[]\n",
    "for i in x:\n",
    "    y.append(i**2)\n",
    "print(y)"
   ]
  },
  {
   "cell_type": "code",
   "execution_count": 40,
   "id": "f46297d6",
   "metadata": {},
   "outputs": [
    {
     "name": "stdout",
     "output_type": "stream",
     "text": [
      "['odd', 'even', 'odd', 'even', 'odd']\n"
     ]
    }
   ],
   "source": [
    "#odd even\n",
    "x=[1,2,3,4,5]\n",
    "y=[]\n",
    "for i in x:\n",
    "    if i%2==0:\n",
    "        y.append(\"even\")\n",
    "    else:\n",
    "        y.append(\"odd\")\n",
    "print(y)"
   ]
  },
  {
   "cell_type": "code",
   "execution_count": 42,
   "id": "ec8cada1",
   "metadata": {},
   "outputs": [
    {
     "name": "stdout",
     "output_type": "stream",
     "text": [
      "[1, 2, 3, 4, 5, 6]\n"
     ]
    }
   ],
   "source": [
    "x=[1,2,3,4,3,2,3,4,3,2,1,2,3,4,2,1,5,6]\n",
    "y=list(set(x))\n",
    "print(y)"
   ]
  },
  {
   "cell_type": "code",
   "execution_count": 43,
   "id": "50e5aff0",
   "metadata": {},
   "outputs": [
    {
     "name": "stdout",
     "output_type": "stream",
     "text": [
      "[1, 2, 3, 4, 5, 6]\n"
     ]
    }
   ],
   "source": [
    "x=[1,2,3,4,3,2,3,4,3,2,1,2,3,4,2,1,5,6]\n",
    "y=[]\n",
    "for i in x:\n",
    "    if i not in y:\n",
    "        y.append(i)\n",
    "print(y)\n",
    "    "
   ]
  },
  {
   "cell_type": "code",
   "execution_count": 45,
   "id": "75cec0f9",
   "metadata": {},
   "outputs": [
    {
     "name": "stdout",
     "output_type": "stream",
     "text": [
      "No of vowels: 4\n"
     ]
    }
   ],
   "source": [
    "name=\"ramesh pradhan\"\n",
    "count=0\n",
    "for i in name:\n",
    "    if i==\"a\" or i==\"e\" or i==\"o\" or i==\"i\" or i==\"u\":\n",
    "        count= count+1\n",
    "print(f\"No of vowels: {count}\") "
   ]
  },
  {
   "cell_type": "code",
   "execution_count": 46,
   "id": "54207a78",
   "metadata": {},
   "outputs": [
    {
     "name": "stdout",
     "output_type": "stream",
     "text": [
      "vowels: ['a', 'e', 'a', 'a']\n"
     ]
    }
   ],
   "source": [
    "name=\"ramesh pradhan\"\n",
    "vowels=[]\n",
    "for i in name:\n",
    "    if i==\"a\" or i==\"e\" or i==\"o\" or i==\"i\" or i==\"u\":\n",
    "        vowels.append(i)\n",
    "print(f\"vowels: {vowels}\") "
   ]
  },
  {
   "cell_type": "code",
   "execution_count": 51,
   "id": "9967c79a",
   "metadata": {},
   "outputs": [
    {
     "name": "stdout",
     "output_type": "stream",
     "text": [
      "231\n"
     ]
    }
   ],
   "source": [
    "marks={'alan':99, 'bill':55,'cory':77}\n",
    "sum=0\n",
    "for i in marks.values():\n",
    "    sum=sum+i\n",
    "print(sum)"
   ]
  },
  {
   "cell_type": "code",
   "execution_count": 58,
   "id": "b4290832",
   "metadata": {},
   "outputs": [
    {
     "name": "stdout",
     "output_type": "stream",
     "text": [
      "{'alan': 4, 'bill': 4, 'cory': 4, 'ram': 3, 'shyam': 5, 'gita': 4}\n"
     ]
    }
   ],
   "source": [
    "#list into dictionary\n",
    "students=['alan','bill','cory','ram','shyam','gita']\n",
    "output=dict()\n",
    "for i in students:\n",
    "    length=len(i)\n",
    "    output.update({i:length})\n",
    "print(output)"
   ]
  },
  {
   "cell_type": "code",
   "execution_count": null,
   "id": "f7c40e07",
   "metadata": {},
   "outputs": [],
   "source": []
  }
 ],
 "metadata": {
  "kernelspec": {
   "display_name": "Python 3 (ipykernel)",
   "language": "python",
   "name": "python3"
  },
  "language_info": {
   "codemirror_mode": {
    "name": "ipython",
    "version": 3
   },
   "file_extension": ".py",
   "mimetype": "text/x-python",
   "name": "python",
   "nbconvert_exporter": "python",
   "pygments_lexer": "ipython3",
   "version": "3.9.0"
  }
 },
 "nbformat": 4,
 "nbformat_minor": 5
}

{
 "cells": [
  {
   "cell_type": "code",
   "execution_count": 1,
   "id": "087a2054",
   "metadata": {},
   "outputs": [
    {
     "name": "stdout",
     "output_type": "stream",
     "text": [
      "6\n"
     ]
    }
   ],
   "source": [
    "numbers=[1,2,3]\n",
    "sum=0\n",
    "i=0\n",
    "while i<len(numbers):\n",
    "    sum +=numbers[i]\n",
    "    i=i+1\n",
    "print(sum)"
   ]
  },
  {
   "cell_type": "code",
   "execution_count": 2,
   "id": "8863c4e7",
   "metadata": {},
   "outputs": [
    {
     "name": "stdout",
     "output_type": "stream",
     "text": [
      "Enter your age:17\n",
      "Enter your age:18\n"
     ]
    }
   ],
   "source": [
    "age=int(input(\"Enter your age:\"))\n",
    "while age<18:\n",
    "    age=int(input(\"Enter your age:\"))\n",
    "    "
   ]
  },
  {
   "cell_type": "code",
   "execution_count": 6,
   "id": "ed71d3dd",
   "metadata": {},
   "outputs": [
    {
     "name": "stdout",
     "output_type": "stream",
     "text": [
      "15\n"
     ]
    }
   ],
   "source": [
    "numbers=[1,2,3,4,5,6,7,8,9,10,11,12]\n",
    "sum=0\n",
    "for number in numbers:\n",
    "    if number==6:\n",
    "        break\n",
    "    sum=sum+number\n",
    "print(sum)"
   ]
  },
  {
   "cell_type": "code",
   "execution_count": 4,
   "id": "88ec9432",
   "metadata": {},
   "outputs": [
    {
     "name": "stdout",
     "output_type": "stream",
     "text": [
      "Continue was excecuted\n",
      "2\n",
      "Continue was not executed\n",
      "Continue was excecuted\n",
      "4\n",
      "Continue was not executed\n",
      "Continue was excecuted\n",
      "6\n",
      "Continue was not executed\n",
      "Continue was excecuted\n",
      "8\n",
      "Continue was not executed\n",
      "Continue was excecuted\n",
      "10\n",
      "Continue was not executed\n",
      "Continue was excecuted\n",
      "12\n",
      "Continue was not executed\n"
     ]
    }
   ],
   "source": [
    "numbers=[1,2,3,4,5,6,7,8,9,10,11,12]\n",
    "for number in numbers:\n",
    "    if number%2==1:\n",
    "        print(\"Continue was excecuted\")\n",
    "        continue\n",
    "    print(number)\n",
    "    print(\"Continue was not executed\")\n",
    "    "
   ]
  },
  {
   "cell_type": "code",
   "execution_count": null,
   "id": "74189196",
   "metadata": {},
   "outputs": [],
   "source": []
  }
 ],
 "metadata": {
  "kernelspec": {
   "display_name": "Python 3 (ipykernel)",
   "language": "python",
   "name": "python3"
  },
  "language_info": {
   "codemirror_mode": {
    "name": "ipython",
    "version": 3
   },
   "file_extension": ".py",
   "mimetype": "text/x-python",
   "name": "python",
   "nbconvert_exporter": "python",
   "pygments_lexer": "ipython3",
   "version": "3.9.0"
  }
 },
 "nbformat": 4,
 "nbformat_minor": 5
}

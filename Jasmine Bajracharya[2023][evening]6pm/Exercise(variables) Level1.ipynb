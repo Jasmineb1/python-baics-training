{
 "cells": [
  {
   "cell_type": "code",
   "execution_count": 1,
   "id": "31dd6806",
   "metadata": {},
   "outputs": [],
   "source": [
    "#1 python variables and constants"
   ]
  },
  {
   "cell_type": "code",
   "execution_count": 2,
   "id": "119953b9",
   "metadata": {},
   "outputs": [],
   "source": [
    "#2 assigning a value to variable\n",
    "first_name=\"Ram\""
   ]
  },
  {
   "cell_type": "code",
   "execution_count": 3,
   "id": "aa0da51e",
   "metadata": {},
   "outputs": [],
   "source": [
    "#2 assigning a value to variable\n",
    "last_name=\"Prasad\""
   ]
  },
  {
   "cell_type": "code",
   "execution_count": 4,
   "id": "05b5c4e4",
   "metadata": {},
   "outputs": [],
   "source": [
    "#3\n",
    "full_name=\"Ram Prasad\""
   ]
  },
  {
   "cell_type": "code",
   "execution_count": 5,
   "id": "6377aefd",
   "metadata": {},
   "outputs": [],
   "source": [
    "#4 Declating a variable\n",
    "is_light_on=True"
   ]
  },
  {
   "cell_type": "code",
   "execution_count": 6,
   "id": "0121eb24",
   "metadata": {},
   "outputs": [
    {
     "name": "stdout",
     "output_type": "stream",
     "text": [
      "1 2 3\n"
     ]
    }
   ],
   "source": [
    "#5 multiple variables in one line\n",
    "a,b,c=1,2,3\n",
    "print(a,b,c)"
   ]
  },
  {
   "cell_type": "code",
   "execution_count": null,
   "id": "71e0547d",
   "metadata": {},
   "outputs": [],
   "source": []
  }
 ],
 "metadata": {
  "kernelspec": {
   "display_name": "Python 3 (ipykernel)",
   "language": "python",
   "name": "python3"
  },
  "language_info": {
   "codemirror_mode": {
    "name": "ipython",
    "version": 3
   },
   "file_extension": ".py",
   "mimetype": "text/x-python",
   "name": "python",
   "nbconvert_exporter": "python",
   "pygments_lexer": "ipython3",
   "version": "3.9.0"
  }
 },
 "nbformat": 4,
 "nbformat_minor": 5
}

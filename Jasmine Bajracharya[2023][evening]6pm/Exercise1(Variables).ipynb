{
 "cells": [
  {
   "cell_type": "code",
   "execution_count": 1,
   "id": "51847250",
   "metadata": {},
   "outputs": [],
   "source": [
    "#pythin variables and constants"
   ]
  },
  {
   "cell_type": "code",
   "execution_count": 2,
   "id": "6662f8fd",
   "metadata": {},
   "outputs": [],
   "source": [
    "first_name=\"ram\"\n",
    "last_name=\"pradhan\""
   ]
  },
  {
   "cell_type": "code",
   "execution_count": 3,
   "id": "c948c858",
   "metadata": {},
   "outputs": [],
   "source": [
    "full_name=\"Ram pradhan\"\n",
    "is_light_on=True\n",
    "a,b,c=1,2,3\n"
   ]
  },
  {
   "cell_type": "code",
   "execution_count": null,
   "id": "2fa1c898",
   "metadata": {},
   "outputs": [],
   "source": []
  }
 ],
 "metadata": {
  "kernelspec": {
   "display_name": "Python 3 (ipykernel)",
   "language": "python",
   "name": "python3"
  },
  "language_info": {
   "codemirror_mode": {
    "name": "ipython",
    "version": 3
   },
   "file_extension": ".py",
   "mimetype": "text/x-python",
   "name": "python",
   "nbconvert_exporter": "python",
   "pygments_lexer": "ipython3",
   "version": "3.9.0"
  }
 },
 "nbformat": 4,
 "nbformat_minor": 5
}

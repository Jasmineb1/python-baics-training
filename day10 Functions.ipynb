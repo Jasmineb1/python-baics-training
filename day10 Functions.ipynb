{
 "cells": [
  {
   "cell_type": "markdown",
   "id": "e9e882f1",
   "metadata": {},
   "source": [
    "# FUNCTIONS"
   ]
  },
  {
   "cell_type": "code",
   "execution_count": 1,
   "id": "a091af26",
   "metadata": {},
   "outputs": [],
   "source": [
    "#function declaration/definition\n",
    "def addition():\n",
    "    x=4\n",
    "    y=2\n",
    "    sum=x+y\n",
    "    print(sum)"
   ]
  },
  {
   "cell_type": "code",
   "execution_count": 3,
   "id": "69ce680a",
   "metadata": {},
   "outputs": [
    {
     "name": "stdout",
     "output_type": "stream",
     "text": [
      "6\n"
     ]
    }
   ],
   "source": [
    "#function call/run/execution\n",
    "addition()"
   ]
  },
  {
   "cell_type": "code",
   "execution_count": 9,
   "id": "cb6d04c2",
   "metadata": {},
   "outputs": [],
   "source": [
    "#dynamic\n",
    "def addition(x,y): #x and y are called parameters or arguments\n",
    "    sum= x+y\n",
    "    print(sum)"
   ]
  },
  {
   "cell_type": "code",
   "execution_count": 8,
   "id": "a2c34181",
   "metadata": {},
   "outputs": [
    {
     "name": "stdout",
     "output_type": "stream",
     "text": [
      "110\n"
     ]
    }
   ],
   "source": [
    "#execution\n",
    "addition(100,10)"
   ]
  },
  {
   "cell_type": "code",
   "execution_count": 14,
   "id": "e996ea91",
   "metadata": {},
   "outputs": [],
   "source": [
    "def interest(p,t,r):\n",
    "    #documentation\n",
    "    \"\"\"\n",
    "    it calculates simple interest\n",
    "    p-principle\n",
    "    r-rate\n",
    "    t-time\n",
    "    \"\"\"\n",
    "    simple_interest=(p*t*r)/100\n",
    "    print(simple_interest)"
   ]
  },
  {
   "cell_type": "code",
   "execution_count": 15,
   "id": "697abc16",
   "metadata": {},
   "outputs": [
    {
     "name": "stdout",
     "output_type": "stream",
     "text": [
      "50.0\n"
     ]
    }
   ],
   "source": [
    "interest(100,10,5)"
   ]
  },
  {
   "cell_type": "code",
   "execution_count": 19,
   "id": "ec6af513",
   "metadata": {},
   "outputs": [
    {
     "name": "stdout",
     "output_type": "stream",
     "text": [
      "50000.0\n"
     ]
    }
   ],
   "source": [
    "def interest(p,t,r):\n",
    "    #documentation\n",
    "    \"\"\"\n",
    "    it calculates simple interest\n",
    "    p-principle\n",
    "    r-rate\n",
    "    t-time\n",
    "    \"\"\"\n",
    "    simple_interest=(p*t*r)/100\n",
    "    return simple_interest\n",
    "\n",
    "simple_interest= interest(100000,5,10)\n",
    "print(simple_interest)"
   ]
  },
  {
   "cell_type": "code",
   "execution_count": 26,
   "id": "75f9936e",
   "metadata": {},
   "outputs": [],
   "source": [
    "#dynamic\n",
    "def addition(x,y=0): #y is called default argument\n",
    "    sum= x+y\n",
    "    return sum"
   ]
  },
  {
   "cell_type": "code",
   "execution_count": 27,
   "id": "cc3530f2",
   "metadata": {},
   "outputs": [
    {
     "data": {
      "text/plain": [
       "5"
      ]
     },
     "execution_count": 27,
     "metadata": {},
     "output_type": "execute_result"
    }
   ],
   "source": [
    "addition(5)"
   ]
  },
  {
   "cell_type": "code",
   "execution_count": 28,
   "id": "62b7dc69",
   "metadata": {},
   "outputs": [],
   "source": [
    "#dynamic\n",
    "def addition(x=7,y=5): #y is called default argument\n",
    "    sum= x+y\n",
    "    return sum"
   ]
  },
  {
   "cell_type": "code",
   "execution_count": 30,
   "id": "d5b4c4dc",
   "metadata": {},
   "outputs": [
    {
     "data": {
      "text/plain": [
       "9"
      ]
     },
     "execution_count": 30,
     "metadata": {},
     "output_type": "execute_result"
    }
   ],
   "source": [
    "addition(5,4)"
   ]
  },
  {
   "cell_type": "code",
   "execution_count": 34,
   "id": "892fe481",
   "metadata": {},
   "outputs": [
    {
     "ename": "SyntaxError",
     "evalue": "positional argument follows keyword argument (3113143664.py, line 1)",
     "output_type": "error",
     "traceback": [
      "\u001b[1;36m  Cell \u001b[1;32mIn[34], line 1\u001b[1;36m\u001b[0m\n\u001b[1;33m    addition(x=7,5) #x=7=> keyword arg and y-> positional arg\u001b[0m\n\u001b[1;37m                  ^\u001b[0m\n\u001b[1;31mSyntaxError\u001b[0m\u001b[1;31m:\u001b[0m positional argument follows keyword argument\n"
     ]
    }
   ],
   "source": [
    "addition(x=7,5) #x=7=> keyword arg and y-> positional arg \n",
    "#can not do this\n",
    "#if we start with keyword arg then all arg must be keyword arg\n",
    "#same condition for fun definition"
   ]
  },
  {
   "cell_type": "code",
   "execution_count": 37,
   "id": "350e70d1",
   "metadata": {},
   "outputs": [
    {
     "name": "stdout",
     "output_type": "stream",
     "text": [
      "8\n",
      "12\n",
      "4\n",
      "3.0\n"
     ]
    }
   ],
   "source": [
    "def math(x,y):\n",
    "    sum=x+y\n",
    "    product=x*y\n",
    "    diff=x-y\n",
    "    div=x/y\n",
    "    print(sum)\n",
    "    print(product)\n",
    "    print(diff)\n",
    "    print(div)\n",
    "math(6,2)"
   ]
  },
  {
   "cell_type": "code",
   "execution_count": 38,
   "id": "75c83dbb",
   "metadata": {},
   "outputs": [],
   "source": [
    "#multiple return can not be done!!!!!"
   ]
  },
  {
   "cell_type": "code",
   "execution_count": 41,
   "id": "5bb89caa",
   "metadata": {},
   "outputs": [
    {
     "name": "stdout",
     "output_type": "stream",
     "text": [
      "(8, 12, 4, 3.0)\n"
     ]
    }
   ],
   "source": [
    "#To send mutiple values, send in tuple\n",
    "def math(x,y):\n",
    "    sum=x+y\n",
    "    product=x*y\n",
    "    diff=x-y\n",
    "    div=x/y\n",
    "    return sum, product, diff, div\n",
    "result=math(6,2)\n",
    "print(result)"
   ]
  },
  {
   "cell_type": "code",
   "execution_count": 43,
   "id": "ea30b543",
   "metadata": {},
   "outputs": [
    {
     "name": "stdout",
     "output_type": "stream",
     "text": [
      "8\n",
      "12\n",
      "4\n",
      "3.0\n"
     ]
    }
   ],
   "source": [
    "#To send mutiple values, send in tuple and to display indivisually\n",
    "def math(x,y):\n",
    "    sum=x+y\n",
    "    product=x*y\n",
    "    diff=x-y\n",
    "    div=x/y\n",
    "    return sum, product, diff, div\n",
    "sum, product, diff, div=math(6,2) #tuple unpacking\n",
    "print(sum)\n",
    "print(product)\n",
    "print(diff)\n",
    "print(div)"
   ]
  },
  {
   "cell_type": "code",
   "execution_count": null,
   "id": "4d1ef6b6",
   "metadata": {},
   "outputs": [],
   "source": []
  }
 ],
 "metadata": {
  "kernelspec": {
   "display_name": "Python 3 (ipykernel)",
   "language": "python",
   "name": "python3"
  },
  "language_info": {
   "codemirror_mode": {
    "name": "ipython",
    "version": 3
   },
   "file_extension": ".py",
   "mimetype": "text/x-python",
   "name": "python",
   "nbconvert_exporter": "python",
   "pygments_lexer": "ipython3",
   "version": "3.9.0"
  }
 },
 "nbformat": 4,
 "nbformat_minor": 5
}
